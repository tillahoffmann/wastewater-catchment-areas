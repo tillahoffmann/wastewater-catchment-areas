{
 "cells": [
  {
   "cell_type": "code",
   "execution_count": null,
   "id": "trying-facing",
   "metadata": {},
   "outputs": [],
   "source": [
    "import fiona\n",
    "import geopandas as gpd\n",
    "from tqdm.notebook import tqdm\n",
    "import pandas as pd\n",
    "import pathlib"
   ]
  },
  {
   "cell_type": "code",
   "execution_count": null,
   "id": "statutory-cartridge",
   "metadata": {},
   "outputs": [],
   "source": [
    "ROOT = pathlib.Path('data/wastewater_catchment_areas_public')\n",
    "\n",
    "catchments = gpd.read_file(ROOT / 'catchments_consolidated.shp').set_index('identifier')\n",
    "print(f'loaded {len(catchments)} catchments')\n",
    "catchments.head()"
   ]
  },
  {
   "cell_type": "code",
   "execution_count": null,
   "id": "headed-humidity",
   "metadata": {},
   "outputs": [],
   "source": [
    "lsoas = gpd.read_file('data/geoportal.statistics.gov.uk/LSOA11_BGC.zip').set_index('LSOA11CD')\n",
    "print(f'loaded {len(lsoas)} LSOAs')\n",
    "lsoas.head()"
   ]
  },
  {
   "cell_type": "code",
   "execution_count": null,
   "id": "statewide-metallic",
   "metadata": {},
   "outputs": [],
   "source": [
    "# Evaluate the intersection area between LSOAs and catchments.\n",
    "catchment_idx, lsoa_idx = lsoas.sindex.query_bulk(catchments.geometry)\n",
    "print(f'found {len(catchment_idx)} intersections between catchments and LSOAs')\n",
    "print(f'{len(set(lsoa_idx))} of {len(lsoas)} LSOAs intersect at least one catchment (at the '\n",
    "      'envelope level)')\n",
    "\n",
    "# Evaluate the proper intersection areas (not just whether they intersect).\n",
    "intersection_areas = [catchments.geometry.iloc[i].intersection(lsoas.geometry.iloc[j]).area\n",
    "                      for i, j in tqdm(zip(catchment_idx, lsoa_idx), total=len(catchment_idx))]\n",
    "\n",
    "# Package the intersection areas in a dataframe and only retain intersections with non-zero area.\n",
    "intersections = pd.DataFrame({\n",
    "    'identifier': catchments.index[catchment_idx],\n",
    "    'LSOA11CD': lsoas.index[lsoa_idx],\n",
    "    'intersection_area': intersection_areas,\n",
    "})\n",
    "intersections = intersections[intersections.intersection_area > 0]\n",
    "print(f'retained {len(intersections)} intersections after removing zero areas')\n",
    "intersections.head()\n",
    "intersections.to_csv(ROOT / 'lsoa_catchment_lookup.csv', index=False)"
   ]
  },
  {
   "cell_type": "code",
   "execution_count": null,
   "id": "manual-fifteen",
   "metadata": {},
   "outputs": [],
   "source": [
    "coverage = {}\n",
    "for lsoa_code, subset in tqdm(intersections.groupby('LSOA11CD')):\n",
    "    # Get the union of all possible intersections.\n",
    "    if len(subset) > 1:\n",
    "        all_intersecting = catchments.loc[subset.identifier].unary_union\n",
    "    else:\n",
    "        identifier = subset.identifier.iloc[0]\n",
    "        all_intersecting = catchments.geometry.loc[identifier]\n",
    "    # Evaluate the intersection of the LSOA with any catchment by intersecting with the spatial\n",
    "    # union of the catchments.\n",
    "    intersection = all_intersecting.intersection(lsoas.geometry.loc[lsoa_code])\n",
    "    coverage[lsoa_code] = intersection.area\n",
    "\n",
    "coverage = pd.Series(coverage)\n",
    "\n",
    "# Compute the coverage and fill with zeros where there are no intersections.\n",
    "lsoas['area_covered'] = coverage\n",
    "lsoas['area_covered'] = lsoas.area_covered.fillna(0)\n",
    "lsoas['total_area'] = lsoas.area\n",
    "lsoas[['total_area', 'area_covered']].to_csv(ROOT / 'lsoa_coverage.csv')"
   ]
  }
 ],
 "metadata": {
  "kernelspec": {
   "display_name": "Python 3 (ipykernel)",
   "language": "python",
   "name": "python3"
  },
  "language_info": {
   "codemirror_mode": {
    "name": "ipython",
    "version": 3
   },
   "file_extension": ".py",
   "mimetype": "text/x-python",
   "name": "python",
   "nbconvert_exporter": "python",
   "pygments_lexer": "ipython3",
   "version": "3.11.5"
  }
 },
 "nbformat": 4,
 "nbformat_minor": 5
}
