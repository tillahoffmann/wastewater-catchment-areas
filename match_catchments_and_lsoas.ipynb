{
 "cells": [
  {
   "cell_type": "code",
   "execution_count": null,
   "id": "trying-facing",
   "metadata": {},
   "outputs": [],
   "source": [
    "import fiona\n",
    "import geopandas as gpd\n",
    "from tqdm.notebook import tqdm\n",
    "import pandas as pd\n",
    "import pathlib\n",
    "from matplotlib import pyplot as plt\n",
    "import numpy as np\n",
    "import networkx as nx"
   ]
  },
  {
   "cell_type": "code",
   "execution_count": null,
   "id": "statutory-cartridge",
   "metadata": {},
   "outputs": [],
   "source": [
    "ROOT = pathlib.Path('data/wastewater_catchment_areas_public')\n",
    "\n",
    "catchments = gpd.read_file(ROOT / 'catchments_consolidated.shp').set_index('identifier')\n",
    "print(f'loaded {len(catchments)} catchments')\n",
    "catchments.head()\n",
    "\n",
    "# Drop catchments that are annotated with an overlap comment.\n",
    "catchments = catchments[~catchments.comment.str.startswith(\"Overlap\").fillna(False)]\n",
    "print(f'retained {len(catchments)} after dropping annotated catchments')\n",
    "\n",
    "# Drop all scottish water catchments because there should not be overlap with LSOAs.\n",
    "catchments = catchments[catchments.company != \"scottish_water\"]\n",
    "print(f'retained {len(catchments)} after dropping Scottish Water')"
   ]
  },
  {
   "cell_type": "code",
   "execution_count": null,
   "id": "b1acb27f",
   "metadata": {},
   "outputs": [],
   "source": [
    "# Find non-trivial intersections between treatment works. That have not already been \n",
    "# annotated.\n",
    "sindex = catchments.geometry.sindex\n",
    "indices = sindex.query_bulk(catchments.geometry).T\n",
    "print(f'found {len(indices)} intersections')\n",
    "\n",
    "# Remove self-intersections and only report each intersection once.\n",
    "indices = indices[indices[:, 0] < indices[:, 1]]\n",
    "print(f'found {len(indices)} intersections without self intersections')\n",
    "\n",
    "# Calculate the actual intersection areas and remove zero-area intersections.\n",
    "i, j = indices.T\n",
    "x = catchments.iloc[i].geometry.reset_index(drop=True)\n",
    "y = catchments.iloc[j].geometry.reset_index(drop=True)\n",
    "intersection_areas = x.intersection(y).area.values\n",
    "intersection_threshold = 100\n",
    "f = intersection_areas > intersection_threshold\n",
    "intersection_areas = intersection_areas[f]\n",
    "indices = indices[f]\n",
    "\n",
    "# Sort to have largest intersection areas first.\n",
    "intersection_areas = intersection_areas\n",
    "indices = indices\n",
    "identifiers = catchments.index.values[indices]"
   ]
  },
  {
   "cell_type": "code",
   "execution_count": null,
   "id": "29275036",
   "metadata": {},
   "outputs": [],
   "source": [
    "# Construct an intersection graph and get connected compnents.\n",
    "graph = nx.Graph()\n",
    "graph.add_edges_from([(*edge, {\"weight\": area}) for edge, area in zip(identifiers, intersection_areas)])\n",
    "components = list(sorted(\n",
    "    nx.connected_components(graph), \n",
    "    key=lambda nodes: sum(data[\"weight\"] for *_, data in graph.edges(nodes, data=True)),\n",
    "    reverse=True,\n",
    "))\n",
    "print(f\"found {len(components)} connected components\")"
   ]
  },
  {
   "cell_type": "code",
   "execution_count": null,
   "id": "ed57bab2",
   "metadata": {},
   "outputs": [],
   "source": [
    "catchments[catchments.index.isin(components[3])].plot(column=\"name\", alpha=0.5)"
   ]
  },
  {
   "cell_type": "code",
   "execution_count": null,
   "id": "headed-humidity",
   "metadata": {},
   "outputs": [],
   "source": [
    "lsoas = gpd.read_file('data/geoportal.statistics.gov.uk/LSOA11_BGC.zip').set_index('LSOA11CD')\n",
    "print(f'loaded {len(lsoas)} LSOAs')\n",
    "lsoas.head()"
   ]
  },
  {
   "cell_type": "code",
   "execution_count": null,
   "id": "statewide-metallic",
   "metadata": {},
   "outputs": [],
   "source": [
    "# Evaluate the intersection area between LSOAs and catchments.\n",
    "catchment_idx, lsoa_idx = lsoas.sindex.query_bulk(catchments.geometry)\n",
    "print(f'found {len(catchment_idx)} intersections between catchments and LSOAs')\n",
    "print(f'{len(set(lsoa_idx))} of {len(lsoas)} LSOAs intersect at least one catchment (at the '\n",
    "      'envelope level)')\n",
    "\n",
    "# Evaluate the proper intersection areas (not just whether they intersect).\n",
    "intersection_areas = [catchments.geometry.iloc[i].intersection(lsoas.geometry.iloc[j]).area\n",
    "                      for i, j in tqdm(zip(catchment_idx, lsoa_idx), total=len(catchment_idx))]\n",
    "\n",
    "# Package the intersection areas in a dataframe and only retain intersections with non-zero area.\n",
    "intersections = pd.DataFrame({\n",
    "    'identifier': catchments.index[catchment_idx],\n",
    "    'LSOA11CD': lsoas.index[lsoa_idx],\n",
    "    'intersection_area': intersection_areas,\n",
    "})\n",
    "intersections = intersections[intersections.intersection_area > 0]\n",
    "print(f'retained {len(intersections)} intersections after removing zero areas')\n",
    "intersections.head()\n",
    "intersections.to_csv(ROOT / 'lsoa_catchment_lookup.csv', index=False)"
   ]
  },
  {
   "cell_type": "code",
   "execution_count": null,
   "id": "abefb5d2",
   "metadata": {},
   "outputs": [],
   "source": [
    "# Evaluate the fraction of each LSOA covered.\n",
    "grouped = intersections.groupby(\"LSOA11CD\")\n",
    "frac_covered = grouped.intersection_area.sum() / lsoas.geometry.area\n",
    "\n",
    "coverage = pd.DataFrame({\n",
    "    \"n_catchments\": grouped.identifier.nunique(), \n",
    "    \"frac\": frac_covered,\n",
    "})\n",
    "\n",
    "# Check that there is at most full coverage if there is only an\n",
    "# intersection with one treatment work.\n",
    "assert coverage[coverage.n_catchments == 1].frac.max() < 1 + 1e-9\n",
    "coverage.loc[coverage.n_catchments == 1, \"frac\"] = np.minimum(\n",
    "    1, coverage.frac[coverage.n_catchments == 1]\n",
    ")\n",
    "coverage = coverage[coverage.frac > 1 + 1e-6]\n",
    "print(\n",
    "    f\"There are {len(coverage)} LSOAs with total \"\n",
    "    \"intersections exceeding their own area.\"\n",
    ")\n",
    "plt.hist(coverage.frac)\n",
    "\n",
    "# Find the catchments that give rise to the \"over-coverage\".\n",
    "catchment_identifiers = intersections[\n",
    "    intersections.LSOA11CD.isin(coverage.index)\n",
    "].groupby(\"identifier\").identifier.count()\n",
    "\n",
    "\n",
    "catchment_identifiers"
   ]
  },
  {
   "cell_type": "code",
   "execution_count": null,
   "id": "manual-fifteen",
   "metadata": {},
   "outputs": [],
   "source": [
    "coverage = {}\n",
    "for lsoa_code, subset in tqdm(intersections.groupby('LSOA11CD')):\n",
    "    # Get the union of all possible intersections.\n",
    "    if len(subset) > 1:\n",
    "        all_intersecting = catchments.loc[subset.identifier].unary_union\n",
    "    else:\n",
    "        identifier = subset.identifier.iloc[0]\n",
    "        all_intersecting = catchments.geometry.loc[identifier]\n",
    "    # Evaluate the intersection of the LSOA with any catchment by intersecting with the spatial \n",
    "    # union of the catchments.\n",
    "    intersection = all_intersecting.intersection(lsoas.geometry.loc[lsoa_code])\n",
    "    coverage[lsoa_code] = intersection.area\n",
    "    \n",
    "coverage = pd.Series(coverage)\n",
    "\n",
    "# Compute the coverage and fill with zeros where there are no intersections.\n",
    "lsoas['area_covered'] = coverage\n",
    "lsoas['area_covered'] = lsoas.area_covered.fillna(0)\n",
    "lsoas['total_area'] = lsoas.area\n",
    "lsoas[['total_area', 'area_covered']].to_csv(ROOT / 'lsoa_coverage.csv')"
   ]
  }
 ],
 "metadata": {
  "kernelspec": {
   "display_name": "Python 3 (ipykernel)",
   "language": "python",
   "name": "python3"
  },
  "language_info": {
   "codemirror_mode": {
    "name": "ipython",
    "version": 3
   },
   "file_extension": ".py",
   "mimetype": "text/x-python",
   "name": "python",
   "nbconvert_exporter": "python",
   "pygments_lexer": "ipython3",
   "version": "3.11.5"
  }
 },
 "nbformat": 4,
 "nbformat_minor": 5
}
